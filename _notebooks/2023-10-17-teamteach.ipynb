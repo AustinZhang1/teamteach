{
 "cells": [
  {
   "cell_type": "markdown",
   "metadata": {},
   "source": [
    "---\n",
    "layout: post\n",
    "title: Team Teach\n",
    "description: Lesson on Lists + Binary Search\n",
    "courses: {\"compsci\": {week: 9} }\n",
    "type: hacks\n",
    "author: Austin Zhang\n",
    "comments: true\n",
    "---"
   ]
  },
  {
   "cell_type": "markdown",
   "metadata": {},
   "source": [
    "# Lists + Binary Search"
   ]
  },
  {
   "cell_type": "markdown",
   "metadata": {},
   "source": [
    "# Lists Here"
   ]
  },
  {
   "cell_type": "code",
   "execution_count": null,
   "metadata": {},
   "outputs": [],
   "source": [
    "\n"
   ]
  },
  {
   "cell_type": "markdown",
   "metadata": {},
   "source": [
    "## Binary Search\n",
    "\n",
    "- Binary Search is a method of searching for an element in a list. <br>\n",
    "- Binary Search is faster than Linear Search <br>\n",
    "- How does Binary Search work?\n",
    "![image](https://media.geeksforgeeks.org/wp-content/uploads/20220309171621/BinarySearch.png)\n",
    "- Worst Case Scenario: 4 Iterations <br> <br><br>\n"
   ]
  },
  {
   "cell_type": "code",
   "execution_count": null,
   "metadata": {},
   "outputs": [],
   "source": [
    "arr = [2, 7, 12, 29, 33, 50, 59, 61, 68, 88, 91]\n",
    "\n",
    "def binary_search(arr, target):\n",
    "    left = 0\n",
    "    right = len(arr) - 1\n",
    "\n",
    "    while left <= right:\n",
    "        mid = (left + right) // 2\n",
    "\n",
    "        if arr[mid] == target:\n",
    "            return mid  # Element found, return its index\n",
    "        elif arr[mid] < target:\n",
    "            left = mid + 1  # Search the right half\n",
    "        else:\n",
    "            right = mid - 1  # Search the left half\n",
    "target = 7\n",
    "position = binary_search(arr, target)\n",
    "print(f\"The element {target} is at index {position}.\")"
   ]
  },
  {
   "cell_type": "markdown",
   "metadata": {},
   "source": [
    "### Big O Notation\n",
    "- Big O notation is a way to measure the upper limit of a function's runtime.\n",
    "- Common Big O Notations:\n",
    "* O(1): Constant time (Ex. searching up an element by index)\n",
    "* O(log n): As input size increases, time grows slowly (Binary Search!)\n",
    "* O(n): Linear time: As input size increases, time grows proportionally. (Linear Search)\n",
    "* O(2^n): Exponential time: Highly inefficient, as input size increases, time grows exponentially. (Brute force)\n",
    "* O(n!): Factorial time: Extremely inefficient, often used to find all possible permutations of a problem."
   ]
  },
  {
   "cell_type": "markdown",
   "metadata": {},
   "source": [
    "### Homework\n",
    "- Write a python function that can determine the worst case running time of an algorithm."
   ]
  }
 ],
 "metadata": {
  "kernelspec": {
   "display_name": "Python 3",
   "language": "python",
   "name": "python3"
  },
  "language_info": {
   "codemirror_mode": {
    "name": "ipython",
    "version": 3
   },
   "file_extension": ".py",
   "mimetype": "text/x-python",
   "name": "python",
   "nbconvert_exporter": "python",
   "pygments_lexer": "ipython3",
   "version": "3.10.12"
  }
 },
 "nbformat": 4,
 "nbformat_minor": 2
}
